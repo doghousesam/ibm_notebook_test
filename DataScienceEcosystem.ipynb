{
 "cells": [
  {
   "cell_type": "markdown",
   "id": "6c166aeb-091d-4911-8d2b-de94ea912d0b",
   "metadata": {},
   "source": [
    "# Data Science Tools and Ecosystem"
   ]
  },
  {
   "cell_type": "markdown",
   "id": "e5bd5d90-c271-409c-a251-85e2a7e71a33",
   "metadata": {
    "tags": []
   },
   "source": [
    "In this notebook, Data Science Tools and Ecosystem are summarized."
   ]
  },
  {
   "cell_type": "markdown",
   "id": "458654ca-f901-4cb2-bdb6-fe2608c7309f",
   "metadata": {},
   "source": [
    "Some of the popular languages that Data Scientists use are:\n",
    "1. Python\n",
    "2. R\n",
    "3. SQL \n",
    "4. Julia"
   ]
  },
  {
   "cell_type": "markdown",
   "id": "8e75ef42-12da-4d48-ac0e-e210a15ceefa",
   "metadata": {},
   "source": [
    "Some of the commonly used libraries used by Data Scientists include:\n",
    "1. Numpy\n",
    "2. Pandas\n",
    "3. Matplotlib"
   ]
  },
  {
   "cell_type": "markdown",
   "id": "aec570ca-14e5-4b14-86ca-98a1c2aad6a0",
   "metadata": {},
   "source": [
    "Data Science Tools:\n",
    "1. Jupyter Notebook\n",
    "2. RStudio\n",
    "3. Apache Zeppelin"
   ]
  },
  {
   "cell_type": "markdown",
   "id": "885d2bdc-303e-4f0e-98d6-dfc7ff79322c",
   "metadata": {},
   "source": [
    "### Below are a few examples of evaluating arithmetic expressions in Python\n"
   ]
  },
  {
   "cell_type": "code",
   "execution_count": 2,
   "id": "2ae842a3-ce37-49ab-9341-fe36acef7f82",
   "metadata": {
    "tags": []
   },
   "outputs": [
    {
     "data": {
      "text/plain": [
       "17"
      ]
     },
     "execution_count": 2,
     "metadata": {},
     "output_type": "execute_result"
    }
   ],
   "source": [
    "# This is a simple arithmetic expression to multiply then add integers.\n",
    "(3 * 4) + 5\n"
   ]
  },
  {
   "cell_type": "code",
   "execution_count": 3,
   "id": "a5c9e696-5570-4d33-a83f-5c8aeee306eb",
   "metadata": {
    "tags": []
   },
   "outputs": [
    {
     "data": {
      "text/plain": [
       "3.3333333333333335"
      ]
     },
     "execution_count": 3,
     "metadata": {},
     "output_type": "execute_result"
    }
   ],
   "source": [
    "# This will convert 200 minutes to hours by dividing by 60.\n",
    "200 / 60\n"
   ]
  },
  {
   "cell_type": "markdown",
   "id": "f9d84cbd-4a49-4630-b4b7-1f97bb1bb83f",
   "metadata": {
    "tags": []
   },
   "source": [
    "**Objectives:**\n",
    "\n",
    "- List popular languages for Data Science\n",
    "- Demonstrate how to create and format Markdown cells in Jupyter Notebook\n",
    "- Show examples of evaluating arithmetic expressions in Python\n",
    "- Explain the use of various Data Science tools\n",
    "- Convert time units from minutes to hours\n"
   ]
  },
  {
   "cell_type": "markdown",
   "id": "a1ef06e7-4025-41f7-a63c-a4237d17bf4f",
   "metadata": {
    "tags": []
   },
   "source": [
    "## Author\n",
    "\n",
    "Samuel Darling\n"
   ]
  },
  {
   "cell_type": "code",
   "execution_count": null,
   "id": "6c1cf977-3dbe-417c-bab9-d248d6136a5a",
   "metadata": {},
   "outputs": [],
   "source": []
  }
 ],
 "metadata": {
  "kernelspec": {
   "display_name": "Python",
   "language": "python",
   "name": "conda-env-python-py"
  },
  "language_info": {
   "codemirror_mode": {
    "name": "ipython",
    "version": 3
   },
   "file_extension": ".py",
   "mimetype": "text/x-python",
   "name": "python",
   "nbconvert_exporter": "python",
   "pygments_lexer": "ipython3",
   "version": "3.7.12"
  }
 },
 "nbformat": 4,
 "nbformat_minor": 5
}
